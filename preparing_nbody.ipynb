{
 "nbformat": 4,
 "nbformat_minor": 0,
 "metadata": {
  "colab": {
   "provenance": [],
   "gpuType": "T4"
  },
  "kernelspec": {
   "name": "python3",
   "display_name": "Python 3"
  },
  "language_info": {
   "name": "python"
  }
 },
 "cells": [
  {
   "cell_type": "code",
   "execution_count": null,
   "metadata": {
    "id": "Al4Uw1kidGd5",
    "colab": {
     "base_uri": "https://localhost:8080/"
    },
    "outputId": "e2e15025-7666-40bc-a129-994dc0568071",
    "is_executing": true
   },
   "outputs": [],
   "source": [
    "import os\n",
    "os.chdir('/')\n",
    "if not os.path.exists(\"/clifford-group-equivariant-neural-networks\"):\n",
    "    !git clone https://github.com/DavidRuhe/clifford-group-equivariant-neural-networks.git\n",
    "os.chdir(\"/clifford-group-equivariant-neural-networks\")"
   ]
  },
  {
   "cell_type": "code",
   "source": [
    "import torch\n",
    "from torch import nn, optim\n",
    "import torch.nn.functional as F\n",
    "import torch\n",
    "from algebra.cliffordalgebra import CliffordAlgebra\n",
    "from models.modules.linear import MVLinear\n",
    "from models.modules.gp import SteerableGeometricProductLayer\n",
    "from models.modules.mvlayernorm import MVLayerNorm\n",
    "from models.modules.mvsilu import MVSiLU\n"
   ],
   "metadata": {
    "id": "djGNemajmc4Y",
    "is_executing": true
   },
   "execution_count": null,
   "outputs": []
  },
  {
   "cell_type": "code",
   "source": [
    "# Define the metric for 3D space (Euclidean)\n",
    "metric = [1, 1, 1]\n",
    "d = len(metric)\n",
    "\n",
    "# Initialize the Clifford Algebra for 3D\n",
    "clifford_algebra = CliffordAlgebra(metric)"
   ],
   "metadata": {
    "id": "CO55FRH4FBic"
   },
   "execution_count": null,
   "outputs": []
  },
  {
   "cell_type": "markdown",
   "source": [
    "## DATAPOINTS"
   ],
   "metadata": {
    "id": "8TAZRAi5F8rk"
   }
  },
  {
   "cell_type": "markdown",
   "source": [
    "Example 1 datapoint"
   ],
   "metadata": {
    "id": "QZff-33JAdw1"
   }
  },
  {
   "cell_type": "code",
   "source": [
    "# Example point (x, y, z) and charge (q)\n",
    "x, y, z, q = 1.0, 2.0, 3.0, 0.5\n",
    "\n",
    "# Embed the point into Clifford Algebra as a vector\n",
    "vector = torch.tensor([x, y, z])\n",
    "vector_in_clifford = clifford_algebra.embed_grade(vector, grade=1)\n",
    "# Include the charge as a scalar part of the algebra\n",
    "charge_in_clifford = clifford_algebra.embed_grade(torch.tensor([q]), grade=0)\n",
    "\n",
    "# Combine the vector and charge into a single multivector\n",
    "point_with_charge = vector_in_clifford + charge_in_clifford\n",
    "\n",
    "# The 'point_with_charge' now represents the 3D point and its charge in Clifford space\n",
    "print(point_with_charge)\n",
    "\n"
   ],
   "metadata": {
    "colab": {
     "base_uri": "https://localhost:8080/"
    },
    "id": "cvETnqcqBQm0",
    "outputId": "8b17bd3b-8a27-454a-b26a-b52bf0975ab3"
   },
   "execution_count": null,
   "outputs": [
    {
     "output_type": "stream",
     "name": "stdout",
     "text": [
      "tensor([0.5000, 1.0000, 2.0000, 3.0000, 0.0000, 0.0000, 0.0000, 0.0000])\n"
     ]
    }
   ]
  },
  {
   "cell_type": "markdown",
   "source": [
    "Example multiple datapoints"
   ],
   "metadata": {
    "id": "MMIuwJyEFatN"
   }
  },
  {
   "cell_type": "code",
   "source": [
    "# Define coordinates and charges for 5 samples\n",
    "# Coordinates are given as a (5, 3) tensor where each row is a point (x, y, z)\n",
    "coordinates = torch.tensor([\n",
    "    [1.0, 2.0, 3.0],\n",
    "    [4.0, 5.0, 6.0],\n",
    "    [7.0, 8.0, 9.0],\n",
    "    [10.0, 11.0, 12.0],\n",
    "    [13.0, 14.0, 15.0]\n",
    "])\n",
    "\n",
    "# Charges are given as a (5, 1) tensor where each row is a charge\n",
    "charges = torch.tensor([\n",
    "    [0.5],\n",
    "    [1.0],\n",
    "    [1.5],\n",
    "    [2.0],\n",
    "    [2.5]\n",
    "])\n",
    "\n",
    "# Embed the vectors (coordinates) into Clifford Algebra\n",
    "vectors_in_clifford = clifford_algebra.embed_grade(coordinates, grade=1)\n",
    "\n",
    "# Embed the charges as scalar parts of the algebra\n",
    "charges_in_clifford = clifford_algebra.embed_grade(charges, grade=0)\n",
    "\n",
    "# Combine the vectors and charges into single multivectors for each sample\n",
    "points_with_charge = vectors_in_clifford + charges_in_clifford\n",
    "\n",
    "# 'points_with_charge' now contains the 5 points each with a charge in Clifford space\n",
    "print(points_with_charge)\n"
   ],
   "metadata": {
    "colab": {
     "base_uri": "https://localhost:8080/"
    },
    "id": "JG0yrtpbBQ0z",
    "outputId": "6572e308-f115-4391-ad17-c9192045ce25"
   },
   "execution_count": null,
   "outputs": [
    {
     "output_type": "stream",
     "name": "stdout",
     "text": [
      "tensor([[ 0.5000,  1.0000,  2.0000,  3.0000,  0.0000,  0.0000,  0.0000,  0.0000],\n",
      "        [ 1.0000,  4.0000,  5.0000,  6.0000,  0.0000,  0.0000,  0.0000,  0.0000],\n",
      "        [ 1.5000,  7.0000,  8.0000,  9.0000,  0.0000,  0.0000,  0.0000,  0.0000],\n",
      "        [ 2.0000, 10.0000, 11.0000, 12.0000,  0.0000,  0.0000,  0.0000,  0.0000],\n",
      "        [ 2.5000, 13.0000, 14.0000, 15.0000,  0.0000,  0.0000,  0.0000,  0.0000]])\n"
     ]
    }
   ]
  },
  {
   "cell_type": "markdown",
   "source": [
    "Example NBODY points, but all features added into 1 clifford vector"
   ],
   "metadata": {
    "id": "2EEazgmrFdzh"
   }
  },
  {
   "cell_type": "code",
   "source": [
    "# Number of bodies\n",
    "N = 5  # Example for 5 bodies, can be any number\n",
    "\n",
    "# Define properties: positions, charges, velocities\n",
    "positions = torch.randn(N, 3)  # Random 3D positions\n",
    "charges = torch.randn(N, 1)    # Random charges\n",
    "velocities = torch.randn(N, 3) # Random 3D velocities\n",
    "\n",
    "# Embed the properties into Clifford Algebra\n",
    "positions_in_clifford = clifford_algebra.embed_grade(positions, grade=1)\n",
    "charges_in_clifford = clifford_algebra.embed_grade(charges, grade=0)\n",
    "velocities_in_clifford = clifford_algebra.embed_grade(velocities, grade=1)  # Also a vector\n",
    "\n",
    "# Combine all properties into a single multivector for each body\n",
    "bodies = positions_in_clifford + charges_in_clifford + velocities_in_clifford\n",
    "\n",
    "# 'bodies' now contains N multivectors, each representing a body with position, charge, and velocity\n",
    "print(bodies)\n",
    "print(bodies.shape)\n"
   ],
   "metadata": {
    "id": "_jeYPtWSf3ol",
    "colab": {
     "base_uri": "https://localhost:8080/"
    },
    "outputId": "8002de35-cde3-4f62-8fd0-62dd610a0608"
   },
   "execution_count": null,
   "outputs": [
    {
     "output_type": "stream",
     "name": "stdout",
     "text": [
      "tensor([[-0.7166,  2.3632, -0.8619,  0.3866,  0.0000,  0.0000,  0.0000,  0.0000],\n",
      "        [ 0.1802, -0.4881,  0.3495, -3.5654,  0.0000,  0.0000,  0.0000,  0.0000],\n",
      "        [-0.8681, -0.6194,  1.5865, -1.3748,  0.0000,  0.0000,  0.0000,  0.0000],\n",
      "        [ 0.5820, -1.0375, -2.7093, -0.2530,  0.0000,  0.0000,  0.0000,  0.0000],\n",
      "        [ 1.1655,  0.6454,  0.6561,  0.6035,  0.0000,  0.0000,  0.0000,  0.0000]])\n",
      "torch.Size([5, 8])\n"
     ]
    }
   ]
  },
  {
   "cell_type": "markdown",
   "source": [
    "Example full with concat like in the code (seperate clifford vector for all features):"
   ],
   "metadata": {
    "id": "FfKJnAH_RMpr"
   }
  },
  {
   "cell_type": "code",
   "source": [
    "# Number of bodies\n",
    "N = 5  # Example for 5 bodies, can be any number\n",
    "\n",
    "# Define properties: positions, charges, velocities\n",
    "positions = torch.randn(N, 3)  # Random 3D positions\n",
    "charges = torch.randn(N, 1)    # Random charges\n",
    "velocities = torch.randn(N, 3) # Random 3D velocities\n",
    "\n",
    "# Embed the properties into Clifford Algebra\n",
    "charges_in_clifford = clifford_algebra.embed_grade(charges, grade=0)\n",
    "\n",
    "# positions_in_clifford = clifford_algebra.embed_grade(positions, grade=1)\n",
    "# velocities_in_clifford = clifford_algebra.embed_grade(velocities, grade=1)  # Also a vector\n",
    "\n",
    "xv = torch.stack([positions, velocities], dim=1)\n",
    "embedded_xv = clifford_algebra.embed(xv, (1, 2, 3))\n",
    "\n",
    "bodies = torch.cat([charges_in_clifford[:, None], embedded_xv], dim=1)\n",
    "\n",
    "# (batch_size, feature_size) -> (batch_size, 1, feature_size). The None index is a shorthand for unsqueeze, which adds a singleton dimension at the specified index (here, index 1).\n",
    "print(\"Invariants reshaped:\", charges_in_clifford[:, None].shape)  # (5, 1, 8)\n",
    "print(\"Covariants:\", embedded_xv.shape)                    # (5, 2, 8)\n",
    "print(\"Concatenated input:\", bodies.shape)                 # (5, 3, 8)\n",
    "\n",
    "# 'bodies' now contains N multivectors, each a sample with with position, charge, and velocity"
   ],
   "metadata": {
    "colab": {
     "base_uri": "https://localhost:8080/"
    },
    "id": "IJV47VB9PBl2",
    "outputId": "fa7e19b9-d627-455b-f027-826c448cb787"
   },
   "execution_count": null,
   "outputs": [
    {
     "output_type": "stream",
     "name": "stdout",
     "text": [
      "Invariants reshaped: torch.Size([5, 1, 8])\n",
      "Covariants: torch.Size([5, 2, 8])\n",
      "Concatenated input: torch.Size([5, 3, 8])\n"
     ]
    }
   ]
  },
  {
   "cell_type": "markdown",
   "source": [
    "# EDGES"
   ],
   "metadata": {
    "id": "_B1rqqeeF_wd"
   }
  },
  {
   "cell_type": "markdown",
   "source": [
    "Now lets look at the edges of the graph as defined above (N=5)"
   ],
   "metadata": {
    "id": "Xfiiq3GhGggt"
   }
  },
  {
   "cell_type": "code",
   "source": [
    "# Edges and edge attributes\n",
    "# Assuming fully connected graph, every node to every other node\n",
    "edges = torch.combinations(torch.arange(N), r=2)\n",
    "\n",
    "print(\"Edges:\")\n",
    "print(edges)\n"
   ],
   "metadata": {
    "colab": {
     "base_uri": "https://localhost:8080/"
    },
    "id": "1bWi-lVAGY4L",
    "outputId": "546a97cd-0b0e-4db2-b6dc-e88d12336839"
   },
   "execution_count": null,
   "outputs": [
    {
     "output_type": "stream",
     "name": "stdout",
     "text": [
      "Edges:\n",
      "tensor([[0, 1],\n",
      "        [0, 2],\n",
      "        [0, 3],\n",
      "        [0, 4],\n",
      "        [1, 2],\n",
      "        [1, 3],\n",
      "        [1, 4],\n",
      "        [2, 3],\n",
      "        [2, 4],\n",
      "        [3, 4]])\n"
     ]
    }
   ]
  },
  {
   "cell_type": "markdown",
   "source": [
    "Lets define the edge attributes for now, just take distance"
   ],
   "metadata": {
    "id": "uoi5LcWlG3sm"
   }
  },
  {
   "cell_type": "code",
   "source": [
    "distance = torch.norm(positions[edges[:, 0]] - positions[edges[:, 1]], dim=1).unsqueeze(1)\n",
    "edge_attr = clifford_algebra.embed_grade(distance, grade=0)  # Embedding distance as an edge attribute\n",
    "\n",
    "print(\"Edge Attributes (Distances):\")\n",
    "print(edge_attr)\n",
    "print(edge_attr.shape)\n"
   ],
   "metadata": {
    "colab": {
     "base_uri": "https://localhost:8080/"
    },
    "id": "6qC9hpH1GY6w",
    "outputId": "1ba1c040-dc97-441a-803e-08a3524b932c"
   },
   "execution_count": null,
   "outputs": [
    {
     "output_type": "stream",
     "name": "stdout",
     "text": [
      "Edge Attributes (Distances):\n",
      "tensor([[1.2177, 0.0000, 0.0000, 0.0000, 0.0000, 0.0000, 0.0000, 0.0000],\n",
      "        [2.8691, 0.0000, 0.0000, 0.0000, 0.0000, 0.0000, 0.0000, 0.0000],\n",
      "        [2.3708, 0.0000, 0.0000, 0.0000, 0.0000, 0.0000, 0.0000, 0.0000],\n",
      "        [1.8960, 0.0000, 0.0000, 0.0000, 0.0000, 0.0000, 0.0000, 0.0000],\n",
      "        [1.7973, 0.0000, 0.0000, 0.0000, 0.0000, 0.0000, 0.0000, 0.0000],\n",
      "        [1.4985, 0.0000, 0.0000, 0.0000, 0.0000, 0.0000, 0.0000, 0.0000],\n",
      "        [3.0644, 0.0000, 0.0000, 0.0000, 0.0000, 0.0000, 0.0000, 0.0000],\n",
      "        [2.0557, 0.0000, 0.0000, 0.0000, 0.0000, 0.0000, 0.0000, 0.0000],\n",
      "        [4.4597, 0.0000, 0.0000, 0.0000, 0.0000, 0.0000, 0.0000, 0.0000],\n",
      "        [4.0433, 0.0000, 0.0000, 0.0000, 0.0000, 0.0000, 0.0000, 0.0000]])\n",
      "torch.Size([10, 8])\n"
     ]
    }
   ]
  },
  {
   "cell_type": "markdown",
   "source": [
    "Now, lets imagine we do not have edge attributes, how would we calculate?"
   ],
   "metadata": {
    "id": "NNz8QJOpHQ4o"
   }
  },
  {
   "cell_type": "code",
   "source": [
    "edge_attributes = []\n",
    "for edge in edges:\n",
    "    node1, node2 = edge\n",
    "\n",
    "    # difference between node features\n",
    "    node_i_features = bodies[node1]\n",
    "    node_j_features = bodies[node2]\n",
    "    difference = node_i_features - node_j_features\n",
    "\n",
    "    # geom product between node features\n",
    "    geom_product = clifford_algebra.geometric_product(node_i_features, node_j_features)\n",
    "\n",
    "    # now just add the 2 to get the \"representation of the edge\"\n",
    "    edge_attributes.append(difference + geom_product)\n",
    "\n",
    "edge_attributes = torch.stack(edge_attributes)  # Stack all edge attributes into a tensor\n",
    "\n",
    "print(\"Edge Attributes (Difference + Geom product):\")\n",
    "print(edge_attributes.shape)"
   ],
   "metadata": {
    "colab": {
     "base_uri": "https://localhost:8080/"
    },
    "id": "vw4fpYloGY9l",
    "outputId": "5581853e-f520-4daa-d8ef-1d9929751fe4"
   },
   "execution_count": null,
   "outputs": [
    {
     "output_type": "stream",
     "name": "stdout",
     "text": [
      "Edge Attributes (Difference + Geom product):\n",
      "torch.Size([10, 3, 8])\n"
     ]
    }
   ]
  },
  {
   "cell_type": "markdown",
   "source": [
    "Lets transform the nodes"
   ],
   "metadata": {
    "id": "fPqbNgaYKvqe"
   }
  },
  {
   "cell_type": "code",
   "source": [
    "in_features = bodies.shape[1] # 3\n",
    "hidden_features = 2\n",
    "\n",
    "# SUBSPACES??!!\n",
    "node_to_hidden = MVLinear(clifford_algebra, in_features, hidden_features, subspaces=True)"
   ],
   "metadata": {
    "id": "P3AE9xlElgUh"
   },
   "execution_count": null,
   "outputs": []
  },
  {
   "cell_type": "code",
   "source": [
    "h_bodies = node_to_hidden(bodies)\n",
    "print(h_bodies.shape)"
   ],
   "metadata": {
    "colab": {
     "base_uri": "https://localhost:8080/"
    },
    "id": "TZDFHv4RSvXm",
    "outputId": "f3baf6b8-ddca-4bcd-b6c0-74a3a4e390d9"
   },
   "execution_count": null,
   "outputs": [
    {
     "output_type": "stream",
     "name": "stdout",
     "text": [
      "torch.Size([5, 2, 8])\n"
     ]
    }
   ]
  },
  {
   "cell_type": "markdown",
   "source": [
    "And the edges"
   ],
   "metadata": {
    "id": "oDngD9zlsOwL"
   }
  },
  {
   "cell_type": "code",
   "source": [
    "in_features = edge_attributes.shape[1] # 3\n",
    "hidden_features = 3\n",
    "\n",
    "# SUBSPACES??\n",
    "edge_to_hidden = MVLinear(clifford_algebra, in_features, hidden_features, subspaces=True)"
   ],
   "metadata": {
    "id": "RqjWXAAEsJBB"
   },
   "execution_count": null,
   "outputs": []
  },
  {
   "cell_type": "code",
   "source": [
    "h_edges = edge_to_hidden(edge_attributes)\n",
    "print(h_edges.shape)"
   ],
   "metadata": {
    "colab": {
     "base_uri": "https://localhost:8080/"
    },
    "id": "btCsHsEzsRWh",
    "outputId": "0ae43020-e019-4474-e3bf-ed8fc20e12c2"
   },
   "execution_count": null,
   "outputs": [
    {
     "output_type": "stream",
     "name": "stdout",
     "text": [
      "torch.Size([10, 3, 8])\n"
     ]
    }
   ]
  },
  {
   "cell_type": "markdown",
   "source": [
    "## now that that is out of the way, lets create some functions to streamline everything"
   ],
   "metadata": {
    "id": "0oYJ3qgUtHT6"
   }
  },
  {
   "cell_type": "code",
   "source": [
    "def make_edge_attr(node_features, edges, batch_size):\n",
    "    edge_attributes = []\n",
    "\n",
    "    total_number_edges = edges[0].shape[0]\n",
    "\n",
    "    # Loop over all edges\n",
    "    for i in range(total_number_edges):\n",
    "\n",
    "        node1 = edges[0][i]\n",
    "        node2 = edges[1][i]\n",
    "\n",
    "        # difference between node features\n",
    "        node_i_features = node_features[node1]  # [#features(charge, loc, vel), dim]\n",
    "        node_j_features = node_features[node2]  # [#features(charge, loc, vel), dim]\n",
    "        difference = node_i_features - node_j_features\n",
    "\n",
    "        # geom product between node features\n",
    "        geom_product = clifford_algebra.geometric_product(node_i_features, node_j_features)\n",
    "\n",
    "        # now just add the 2 to get the \"representation of the edge\"\n",
    "        # Stack all\n",
    "        edge_representation = torch.cat((difference, geom_product), dim=0)\n",
    "        edge_attributes.append(edge_representation)\n",
    "\n",
    "    edge_attributes = torch.stack(edge_attributes)\n",
    "    return edge_attributes\n"
   ],
   "metadata": {
    "id": "LY2n82NF1Sgs"
   },
   "execution_count": null,
   "outputs": []
  },
  {
   "cell_type": "code",
   "source": [
    "def embed_nbody_graphs(batch):\n",
    "    loc, vel, edge_attr, charges, loc_end, edges = batch\n",
    "\n",
    "    batch_size, n_nodes, _ = loc.size()\n",
    "\n",
    "\n",
    "    # put the mean of the pointcloud on the origin (WHY?)\n",
    "    loc_mean = loc - loc.mean(dim=1, keepdim=True)     # [batch, nodes, dim]\n",
    "\n",
    "\n",
    "    # ALL THESE do [batch, nodes, dim] ->>> [batch * nodes, dim] BUT WHYYY\n",
    "    loc_mean = loc_mean.float().view(-1, *loc_mean.shape[2:])\n",
    "    loc = loc.float().view(-1, *loc.shape[2:])\n",
    "    vel = vel.float().view(-1, *vel.shape[2:])\n",
    "    edge_attr = edge_attr.float().view(-1, *edge_attr.shape[2:])\n",
    "    charges = charges.float().view(-1, *charges.shape[2:])\n",
    "    loc_end = loc_end.float().view(-1, *loc_end.shape[2:])\n",
    "\n",
    "    invariants = charges\n",
    "    invariants = clifford_algebra.embed(invariants, (0,))\n",
    "    charges_in_clifford = invariants\n",
    "\n",
    "    xv = torch.stack([loc_mean, vel], dim=1) # now of the shape [batch * nodes, 2 (because its loc mean as well as vel), dim]\n",
    "    covariants = clifford_algebra.embed(xv, (1, 2, 3))\n",
    "    pos_vel_in_clifford = covariants\n",
    "\n",
    "\n",
    "    # the [:, none] adds a dimension to invariants: [500, 8] to 500, 1, 8]) so they can be concatinated\n",
    "    nodes_in_clifford = torch.cat([invariants[:, None], covariants], dim=1) # [batch * nodes, #features(charge, loc, vel), dim]\n",
    "    # print('nodes_in_clifford: [batch * nodes, #features(charge, loc, vel), dim]', nodes_in_clifford.shape)\n",
    "\n",
    "    # till now: edges [batch, 2, n_nodes] so per batch, first row is starting nodes, second row is finishing nodes.\n",
    "    # Batch 1:  [[0, 1, 2, 3, 4],  # Start nodes\n",
    "    #            [1, 2, 3, 4, 0]]  # End nodes\n",
    "\n",
    "    # Batch 2:  [[0, 1, 2, 3, 4],  # Start nodes\n",
    "    #            [1, 2, 3, 4, 0]]  # End nodes\n",
    "\n",
    "    # Batch 3:  [[0, 1, 2, 3, 4],  # Start nodes\n",
    "    #            [1, 2, 3, 4, 0]]  # End nodes\n",
    "\n",
    "\n",
    "    # THEIR CODE, IDK IF NEEDED\n",
    "    batch_index = torch.arange(batch_size, device=loc_mean.device) # torch.arange(batch_size) generates a tensor from 0 to batch_size - 1, creating a sequence that represents each graph in the batch. If batch_size is 3, this tensor will be [0, 1, 2]\n",
    "    edges = edges + n_nodes * batch_index[:, None, None] # creates separate edge number for every graph. so if edge for graph 1 is between 3 and 4, graph 2 will be between 8 and 9 (if n_nodes = 5)\n",
    "    edges = tuple(edges.transpose(0, 1).flatten(1)) # where the first element of the tuple contains all start nodes and the second contains all end nodes for edges across the entire batch. ([edges*batch], [edges*batch])\n",
    "\n",
    "    extra_edge_attr_clifford = make_edge_attr(nodes_in_clifford, edges, batch_size) # [batch*edges, #numfeatures, difference + geomprod, dim]\n",
    "\n",
    "    orig_edge_attr_clifford = clifford_algebra.embed(edge_attr[..., None], (0,)) # now [batch * edges, 1, dim]\n",
    "\n",
    "    return nodes_in_clifford, extra_edge_attr_clifford, orig_edge_attr_clifford\n"
   ],
   "metadata": {
    "id": "3PsPP03ZtK3y"
   },
   "execution_count": null,
   "outputs": []
  },
  {
   "cell_type": "code",
   "source": [
    "def generate_mock_batch(batch_size):\n",
    "    \"\"\"\n",
    "    Generate a mock batch of data with specified shapes.\n",
    "\n",
    "    Parameters:\n",
    "    - batch_size (int): The size of the batch to generate.\n",
    "\n",
    "    Returns:\n",
    "    - A tuple containing tensors for loc_frame_0, vel_frame_0, edge_attr, charges, loc_frame_T, and edges.\n",
    "    \"\"\"\n",
    "    # Constants\n",
    "    n_nodes = 5  # Number of nodes\n",
    "    n_features = 3  # Number of spatial features (e.g., x, y, z)\n",
    "    n_edges = 20  # Number of edges\n",
    "    n_edge_features = 1  # Number of features per edge\n",
    "\n",
    "    # Generate data\n",
    "    loc_frame_0 = torch.rand(batch_size, n_nodes, n_features)\n",
    "    vel_frame_0 = torch.rand(batch_size, n_nodes, n_features)\n",
    "    edge_attr = torch.rand(batch_size, n_edges, n_edge_features)\n",
    "    charges = torch.rand(batch_size, n_nodes, 1)\n",
    "    loc_frame_T = torch.rand(batch_size, n_nodes, n_features)\n",
    "\n",
    "    # Generate edges indices\n",
    "    # For simplicity, assuming all batches share the same structure of graph\n",
    "    rows = torch.randint(0, n_nodes, (n_edges,))\n",
    "    cols = torch.randint(0, n_nodes, (n_edges,))\n",
    "    edges = torch.stack([rows, cols], dim=0).repeat(batch_size, 1, 1)  # Repeat the edge structure across the batch\n",
    "\n",
    "    return loc_frame_0, vel_frame_0, edge_attr, charges, loc_frame_T, edges"
   ],
   "metadata": {
    "id": "PiZr4WTX5_4y"
   },
   "execution_count": null,
   "outputs": []
  },
  {
   "cell_type": "code",
   "source": [
    "# Example of using the function with a batch size of 69\n",
    "batch_size = 100\n",
    "data = generate_mock_batch(batch_size)\n",
    "# n_nodes = 5  # Number of nodes\n",
    "# n_features = 3  # Number of spatial features (e.g., x, y, z)\n",
    "# n_edges = 20  # Number of edges\n",
    "# n_edge_features = 1  # Number of features per edge\n",
    "\n",
    "# Print the shapes of each element in the data tuple\n",
    "data_shapes = [d.shape for d in data]\n",
    "# print(\"Shape of loc_frame_0:\", data_shapes[0])\n",
    "# print(\"Shape of vel_frame_0:\", data_shapes[1])\n",
    "# print(\"Shape of edge_attr:\", data_shapes[2])\n",
    "# print(\"Shape of charges:\", data_shapes[3])\n",
    "# print(\"Shape of loc_frame_T:\", data_shapes[4])\n",
    "# print(\"Shape of edges:\", data_shapes[5])"
   ],
   "metadata": {
    "id": "fnh-oBZBjPLh"
   },
   "execution_count": null,
   "outputs": []
  },
  {
   "cell_type": "code",
   "source": [
    "components = embed_nbody_graphs(data)\n",
    "nodes_in_clifford, extra_edge_attr_clifford, orig_edge_attr_clifford = components\n",
    "edges_in_clifford = torch.cat((extra_edge_attr_clifford, orig_edge_attr_clifford), dim=1)\n",
    "\n",
    "# This MVLinear should be somewhere else! HOW DOES THIS WORK PRECICELY\n",
    "edge_to_node_shape = MVLinear(clifford_algebra, edges_in_clifford.shape[1] , nodes_in_clifford.shape[1], subspaces=True)\n",
    "\n",
    "fully_embedded_edges = edge_to_node_shape(edges_in_clifford)\n",
    "\n",
    "\n",
    "# Adding a binary feature\n",
    "# Nodes get a [1, 0] and edges get a [0, 1]\n",
    "node_marker = torch.zeros(500, 1, 8)\n",
    "edge_marker = torch.ones(2000, 1, 8)\n",
    "\n",
    "# Concatenate this new feature\n",
    "nodes_encoded = torch.cat((nodes_in_clifford, node_marker), dim=1)  # New shape [500, 4, 8]\n",
    "edges_encoded = torch.cat((fully_embedded_edges, edge_marker), dim=1)  # New shape [2000, 4, 8]\n",
    "\n",
    "# Reshape to split according to graphs\n",
    "nodes = nodes_encoded.view(100, 5, 4, 8)   # Shape [100, 5, 3, 9]\n",
    "edges = edges_encoded.view(100, 20, 4, 8)  # Shape [100, 20, 3, 9]\n",
    "\n",
    "# Initialize a list to hold the combined tensors for each graph\n",
    "combined = []\n",
    "\n",
    "# Concatenate nodes and edges for each graph\n",
    "for i in range(100):\n",
    "    combined_graph = torch.cat((nodes[i], edges[i]), dim=0)  # Shape [25, 4, 8]\n",
    "    combined.append(combined_graph)\n",
    "\n",
    "combined = torch.stack(combined, dim=0)  # Shape [100, 25, 4, 8]\n",
    "final_tensor = combined.view(2500, 4, 8)  # Shape [2500, 4, 8]\n",
    "\n",
    "print('combined:', final_tensor.shape)"
   ],
   "metadata": {
    "colab": {
     "base_uri": "https://localhost:8080/"
    },
    "id": "IosWbhgK69ET",
    "outputId": "ceb05131-7a01-4ea8-8fff-3a985872946b"
   },
   "execution_count": null,
   "outputs": [
    {
     "output_type": "stream",
     "name": "stdout",
     "text": [
      "combined: torch.Size([2500, 4, 8])\n"
     ]
    }
   ]
  },
  {
   "cell_type": "markdown",
   "source": [
    "code for learnable positional encodings:"
   ],
   "metadata": {
    "id": "z-C42MKe324X"
   }
  },
  {
   "cell_type": "code",
   "source": [
    "# # Assume some dimension for positional encodings\n",
    "# pos_dim = 2  # You can choose any size\n",
    "\n",
    "# # Define parameters for positional encodings\n",
    "# node_pos_enc = torch.nn.Parameter(torch.randn(5, 3, pos_dim))  # [5, 3, pos_dim]\n",
    "# edge_pos_enc = torch.nn.Parameter(torch.randn(20, 3, pos_dim))  # [20, 3, pos_dim]\n",
    "\n",
    "# # Repeat these encodings for each graph in the batch\n",
    "# node_pos_enc = node_pos_enc.repeat(100, 1, 1)  # [500, 3, pos_dim]\n",
    "# edge_pos_enc = edge_pos_enc.repeat(100, 1, 1)  # [2000, 3, pos_dim]\n",
    "\n",
    "# # Concatenate positional encodings\n",
    "# nodes_encoded = torch.cat((nodes, node_pos_enc), dim=2)\n",
    "# edges_encoded = torch.cat((edges, edge_pos_enc), dim=2)\n"
   ],
   "metadata": {
    "id": "q6dhu2Ew3XVv"
   },
   "execution_count": null,
   "outputs": []
  }
 ]
}
